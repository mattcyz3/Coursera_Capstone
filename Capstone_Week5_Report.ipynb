{
 "cells": [
  {
   "cell_type": "markdown",
   "metadata": {},
   "source": [
    "**Introduction/Business Problem**"
   ]
  },
  {
   "cell_type": "markdown",
   "metadata": {},
   "source": [
    "When people travel to or visit new places, they would want to live in places that are similar to the places they were used to. There are many neighborhoods arount the New York City. When residents of New York city visit Toronto, it would be helpful for them to get a good understanding of the new city if they know what neighbothoods of Toronto are similar to what neighborhoods of New York. On the other hand, if residents of Toronto visit New York City the first time, they would also like to know which parts of New York are similar compared to the parts of Toronto. Thus, in this project, the problem of similarity of the neighborhoods of the two cities will be solved. This is done by exploring and analyzing the venues near New York and Toronto neighborhoods. Neighborhoods with similar venues will be clustered together."
   ]
  },
  {
   "cell_type": "markdown",
   "metadata": {},
   "source": [
    "**Data Description**"
   ]
  },
  {
   "cell_type": "markdown",
   "metadata": {},
   "source": [
    "**Neighborhood Data**\n",
    "\n",
    "The neighborhood data of New York and Toronto has the following attributes: borough, neighborhood name, latitude of neighborhood, and longitude of neighborhood. The New York neighborhood is publicly available provided by NYU and can be obtained from this link https://geo.nyu.edu/catalog/nyu_2451_34572. The Toronto neighborhood is obtained from the following wikipedia page: https://en.wikipedia.org/wiki/List_of_postal_codes_of_Canada:_M. There will be five columns in the final neighborhood data frame: Borough, Neighborhood Name, Latitude, Longitude, Region. Borough tells us the district to which a neighborhood belongs. Neighborhood Name is the name of the neighborhood. Latitude and Longitude are the coordinates. Region tells us whether this neighborhood is in New York City or Toronto."
   ]
  },
  {
   "cell_type": "markdown",
   "metadata": {},
   "source": [
    "**Venue Data**\n",
    "\n",
    "Venue data of the neighborhoods is obtained by using Foursquare API. By making regular calls through the API, the venue name, venue latitude, venue longitude and venue category within a certain radius of a given neighborhood can be obtained. "
   ]
  },
  {
   "cell_type": "markdown",
   "metadata": {},
   "source": [
    "**Methodology**"
   ]
  },
  {
   "cell_type": "markdown",
   "metadata": {},
   "source": [
    "First, we weill load the neighborhood data. The New York neighborhood data is downloaded from the url https://geo.nyu.edu/catalog/nyu_2451_34572 and handled using json package. The first five rows of New York neighborhood data looks like the following:\n",
    "\n",
    "<img src=\"files/ny_nbhd.png\">"
   ]
  },
  {
   "cell_type": "markdown",
   "metadata": {},
   "source": [
    "After we get New York data, we will use BeautifulSoup package to scrape the Toronto neighborhood data from the Wikipedia page at the url https://en.wikipedia.org/wiki/List_of_postal_codes_of_Canada:_M. For purpose of the project, we will only keep the boroughs of Toronto that have a valid name. In addition, if a neighborhood of a boroughood does not have a name, we will use the borough name as the neighborhood name. After the neighborhood names and boroughs are handles, we will use the table called \"Geospatial_Coordinates.csv\" to append the latitude and longitude information. The table looks like the following:\n",
    "\n",
    "<img src=\"files/geo.png\">\n",
    "\n",
    "Note that the coordinates in this table is only for zip codes of boroughs and not for neighborhoods. As a result, for neighborhoods that belong to the samme borough, we merged the records to one as they have the same latitude and longitude. The first five rows of the Toronto neighborhoods looks like the following:\n",
    "\n",
    "<img src=\"files/to_nbhd.png\">"
   ]
  },
  {
   "cell_type": "markdown",
   "metadata": {},
   "source": [
    "Now that we have neighborhoods data of both New York and Toronto. We will then use Foursquare API to explore the venues near the neighborhoods. First, we merge the New York neighborhoods data frame and the Toronto neighborhoods data frame together for future venue exploration. Then, we define the Foursquare API parameters. After we have the merged data frame and the API parameters, we will define function to fetch the venue information of venue name, venue latitude, venue longitude, and venue category."
   ]
  },
  {
   "cell_type": "markdown",
   "metadata": {},
   "source": [
    "After we have the function defined, We then use the function to get the top 100 venues of 500 radius of each neighborhood of New York City and Toronto. The first five rows of venues data look like the following:\n",
    "\n",
    "<img src=\"files/ny_venues.png\">"
   ]
  },
  {
   "cell_type": "markdown",
   "metadata": {},
   "source": [
    "With the venue data available, we will use K-Means cluster to cluster the neighborhoods based on venues around the neighborhoods. To do the K-Means clustering, we first get dummies for each type of venue category. Neighborhoods are then measured and clustered based on the mean of venue category counts of each neighborhood. A K-Means clustering model of k = 10 is fit on the data."
   ]
  },
  {
   "cell_type": "markdown",
   "metadata": {},
   "source": [
    "**Results**"
   ]
  },
  {
   "cell_type": "markdown",
   "metadata": {},
   "source": [
    "From the k-means clustering, we clustered the neithborhoods into 10 clusters based on the venues around the neighborhood. First, let's look at the sizes of the clusters. The sizes of the ten clusters are: 178, 15, 3, 1, 1, 42, 143, 3, 15, 2. From the sizes, we could see that most of the neighborhoods of the two cities fall into three clusters, with sizes of 178, 143 and 42. Let's take a look what neighborhoods are clustered together. Because the clusters are large, not all neighborhoods in the cluster are displayed."
   ]
  },
  {
   "cell_type": "markdown",
   "metadata": {},
   "source": [
    "Cluster with size 178:\n",
    "\n",
    "<img src=\"cluster0.png\">\n",
    "\n",
    "Cluster with size 42:\n",
    "\n",
    "<img src=\"cluster5.png\">\n",
    "\n",
    "Cluster with size 143:\n",
    "\n",
    "<img src=\"cluster6.png\">"
   ]
  },
  {
   "cell_type": "markdown",
   "metadata": {},
   "source": [
    "Then, let's visualize the largest three clusters on the map:\n",
    "\n",
    "<img src=\"files/map.png\">"
   ]
  },
  {
   "cell_type": "markdown",
   "metadata": {},
   "source": [
    "Finally, define a function that allows users to find the similar boroughs within a specific region (NYC or Toronto) to the borough that user wanted to compare. The function will take three parameters: input_borough, input_region, and output_region. The function will return the list of boroughs in the specified region that are similar to the borough that user specified. For example, if the user wants to find the boroughs that are similar to Downtown Toronto in the New York City region, the input would be \"Downtown Toronto\", \"Toronto\", \"NYC\". According to the data frame constructed before, the function would return the following list of boroughs: Queens, Manhattan, Brooklyn, Staten Island, Bronx.\n",
    "\n",
    "<img src=\"files/function.png\"> \n",
    "\n",
    "<img src=\"files/function_output.png\">"
   ]
  },
  {
   "cell_type": "markdown",
   "metadata": {},
   "source": [
    "**Discussion**"
   ]
  },
  {
   "cell_type": "markdown",
   "metadata": {},
   "source": [
    "From the custering results, we could see that most of the neighbohoods in Toronto and New Yok are similar. If we look at the visulization map, The neighborhoods of the areas further from Center New York are clustered with the neighborhoods which are also further from Toronto downtown area.  while the neighborhood clusters of Toronto are also concentrated around the Toronto downtown area. This indicates that the layouts of neighborhoods of New York and Toronto are quite similar. \n",
    "\n",
    "However, from the visualization map markers, we can find that there are a lot more neithborhoods in New York compared to Toronto. This is due to the inadequate information of latitudes and logitudes. Neithborhoods of Toronto are grouped by zip codes of boroughs, the neighborhoods with the same zip code are grouped together. Thus, each marker on the map for Toronto may represent a group of neighborhoods. In addition, most of the New York neighborhoods are clustered in one large culster, while Toronto neighborhood clusters are more scattered across the Greater Toronto Area."
   ]
  },
  {
   "cell_type": "markdown",
   "metadata": {},
   "source": [
    "**Conclusion**"
   ]
  },
  {
   "cell_type": "markdown",
   "metadata": {},
   "source": [
    "This data analysis project identified the simiar neighborhoods of New York and Toronto. The neighborhoods of the two cities are clustered into ten clusters using K-Means clustering. However, there are areas where could be improved. First, the latitudes and longitudes of Toronto neighborhoods could be used to replace the coordinates of zip codes of boroughs. In that way, the data would be accurate and the clustering could be more accurate. The function that finds similar boroughs could also be adjusted to find the similar neighborhoods so that the results would be at a more granular level. In addition, the value K could be tuned in order to achieve the best clustering result. More detailed neighborhood explorations, such as venues reviews  could be added to the data for clustering with advanced Foursquare API. In general, this project provides a brief way that helps travelers identify the similarities between the two cities."
   ]
  },
  {
   "cell_type": "code",
   "execution_count": null,
   "metadata": {},
   "outputs": [],
   "source": []
  }
 ],
 "metadata": {
  "kernelspec": {
   "display_name": "Python 3",
   "language": "python",
   "name": "python3"
  },
  "language_info": {
   "codemirror_mode": {
    "name": "ipython",
    "version": 3
   },
   "file_extension": ".py",
   "mimetype": "text/x-python",
   "name": "python",
   "nbconvert_exporter": "python",
   "pygments_lexer": "ipython3",
   "version": "3.7.3"
  }
 },
 "nbformat": 4,
 "nbformat_minor": 2
}
