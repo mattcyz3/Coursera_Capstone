{
 "cells": [
  {
   "cell_type": "markdown",
   "metadata": {},
   "source": [
    "**Introduction/Business Problem**"
   ]
  },
  {
   "cell_type": "markdown",
   "metadata": {},
   "source": [
    "When people travel to or visit new places, they would want to live in places that are similar to the places they were used to. There are many neighborhoods arount the New York City. When residents of New York city visit Toronto, it would be helpful for them to get a good understanding of the new city if they know what neighbothoods of Toronto are similar to what neighborhoods of New York. On the other hand, if residents of Toronto visit New York City the first time, they would also like to know which parts of New York are similar compared to the parts of Toronto. Thus, in this project, the problem of similarity of the neighborhoods of the two cities will be solved. This is done by exploring and analyzing the venues near New York and Toronto neighborhoods. Neighborhoods with similar venues will be clustered together."
   ]
  },
  {
   "cell_type": "markdown",
   "metadata": {},
   "source": [
    "**Data Description**"
   ]
  },
  {
   "cell_type": "markdown",
   "metadata": {},
   "source": [
    "**Neighborhood Data**\n",
    "\n",
    "The neighborhood data of New York and Toronto has the following attributes: borough, neighborhood name, latitude of neighborhood, and longitude of neighborhood. The New York neighborhood is publicly available provided by NYU and can be obtained from this link https://geo.nyu.edu/catalog/nyu_2451_34572. The Toronto neighborhood is obtained from the following wikipedia page: https://en.wikipedia.org/wiki/List_of_postal_codes_of_Canada:_M. \n",
    "\n",
    "**Venue Data**\n",
    "\n",
    "Venue data of the neighborhoods is obtained by using Foursquare API. By making regular calls through the API, the venue name, venue latitude, venue longitude, venue category and venue ID within a certain radius of a given neighborhood can be obtained. Below is an example of the what venue data looks like: \n",
    "\n",
    "<img src=\"files/venues.png\">"
   ]
  },
  {
   "cell_type": "code",
   "execution_count": null,
   "metadata": {},
   "outputs": [],
   "source": []
  }
 ],
 "metadata": {
  "kernelspec": {
   "display_name": "Python 3",
   "language": "python",
   "name": "python3"
  },
  "language_info": {
   "codemirror_mode": {
    "name": "ipython",
    "version": 3
   },
   "file_extension": ".py",
   "mimetype": "text/x-python",
   "name": "python",
   "nbconvert_exporter": "python",
   "pygments_lexer": "ipython3",
   "version": "3.7.3"
  }
 },
 "nbformat": 4,
 "nbformat_minor": 2
}
